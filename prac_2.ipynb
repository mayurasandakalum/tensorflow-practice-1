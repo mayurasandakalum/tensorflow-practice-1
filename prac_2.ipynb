{
 "cells": [
  {
   "cell_type": "code",
   "execution_count": 2,
   "metadata": {},
   "outputs": [],
   "source": [
    "import tensorflow as tf"
   ]
  },
  {
   "cell_type": "markdown",
   "metadata": {},
   "source": [
    ">Element wise addition"
   ]
  },
  {
   "cell_type": "code",
   "execution_count": null,
   "metadata": {},
   "outputs": [],
   "source": [
    "tensorA = tf.constant([20, 6, 7])\n",
    "tensorB = tf.constant([45, 7, 21])\n",
    "\n",
    "tensorC = tf.add(tensorA, tensorB) #? or tensorC = tensorA + tensorB\n",
    "\n",
    "print(tensorA)\n",
    "print(tensorB)\n",
    "print(tensorC)"
   ]
  },
  {
   "cell_type": "markdown",
   "metadata": {},
   "source": [
    ">Element wise substraction"
   ]
  },
  {
   "cell_type": "code",
   "execution_count": null,
   "metadata": {},
   "outputs": [],
   "source": [
    "tensorC = tf.subtract(tensorA, tensorB) #? or tensorC = tensorA - tensorB\n",
    "print(tensorC)"
   ]
  },
  {
   "cell_type": "markdown",
   "metadata": {},
   "source": [
    "> Element wise division"
   ]
  },
  {
   "cell_type": "code",
   "execution_count": null,
   "metadata": {},
   "outputs": [],
   "source": [
    "tensorD = tf.divide(tensorA, tensorB) #? or tensorC = tensorA / tensorB\n",
    "print(tensorD)"
   ]
  },
  {
   "cell_type": "markdown",
   "metadata": {},
   "source": [
    "> Tensor multiplication"
   ]
  },
  {
   "cell_type": "code",
   "execution_count": 11,
   "metadata": {},
   "outputs": [
    {
     "name": "stdout",
     "output_type": "stream",
     "text": [
      "tf.Tensor([900  42 147], shape=(3,), dtype=int32)\n"
     ]
    }
   ],
   "source": [
    "tensorE = tf.multiply(tensorA, tensorB)\n",
    "print(tensorE)"
   ]
  },
  {
   "cell_type": "markdown",
   "metadata": {},
   "source": [
    "> Dot product"
   ]
  },
  {
   "cell_type": "code",
   "execution_count": 1,
   "metadata": {},
   "outputs": [
    {
     "ename": "NameError",
     "evalue": "name 'tf' is not defined",
     "output_type": "error",
     "traceback": [
      "\u001b[1;31m---------------------------------------------------------------------------\u001b[0m",
      "\u001b[1;31mNameError\u001b[0m                                 Traceback (most recent call last)",
      "Cell \u001b[1;32mIn[1], line 3\u001b[0m\n\u001b[0;32m      1\u001b[0m \u001b[39mimport\u001b[39;00m \u001b[39mnumpy\u001b[39;00m \u001b[39mas\u001b[39;00m \u001b[39mnp\u001b[39;00m\n\u001b[1;32m----> 3\u001b[0m tensorA \u001b[39m=\u001b[39m tf\u001b[39m.\u001b[39mconstant(np\u001b[39m.\u001b[39marray([[\u001b[39m1\u001b[39m, \u001b[39m2\u001b[39m], [\u001b[39m3\u001b[39m, \u001b[39m4\u001b[39m]]))\n\u001b[0;32m      4\u001b[0m tensorB \u001b[39m=\u001b[39m tf\u001b[39m.\u001b[39mconstant(np\u001b[39m.\u001b[39marray([[\u001b[39m11\u001b[39m, \u001b[39m12\u001b[39m], [\u001b[39m13\u001b[39m, \u001b[39m14\u001b[39m]]))\n\u001b[0;32m      6\u001b[0m \u001b[39mprint\u001b[39m(tensorA)\n",
      "\u001b[1;31mNameError\u001b[0m: name 'tf' is not defined"
     ]
    }
   ],
   "source": [
    "import numpy as np\n",
    "\n",
    "tensorA = tf.constant(np.array([[1, 2], [3, 4]]))\n",
    "tensorB = tf.constant(np.array([[11, 12], [13, 14]]))\n",
    "\n",
    "print(tensorA)\n",
    "print(tensorB)"
   ]
  }
 ],
 "metadata": {
  "kernelspec": {
   "display_name": "tensorflow",
   "language": "python",
   "name": "python3"
  },
  "language_info": {
   "codemirror_mode": {
    "name": "ipython",
    "version": 3
   },
   "file_extension": ".py",
   "mimetype": "text/x-python",
   "name": "python",
   "nbconvert_exporter": "python",
   "pygments_lexer": "ipython3",
   "version": "3.9.17"
  },
  "orig_nbformat": 4
 },
 "nbformat": 4,
 "nbformat_minor": 2
}
