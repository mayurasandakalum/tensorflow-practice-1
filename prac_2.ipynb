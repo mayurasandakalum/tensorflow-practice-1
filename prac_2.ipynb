{
 "cells": [
  {
   "cell_type": "code",
   "execution_count": 2,
   "metadata": {},
   "outputs": [],
   "source": [
    "import tensorflow as tf"
   ]
  },
  {
   "cell_type": "markdown",
   "metadata": {},
   "source": [
    ">Element wise addition"
   ]
  },
  {
   "cell_type": "code",
   "execution_count": null,
   "metadata": {},
   "outputs": [],
   "source": [
    "tensorA = tf.constant([20, 6, 7])\n",
    "tensorB = tf.constant([45, 7, 21])\n",
    "\n",
    "tensorC = tf.add(tensorA, tensorB) #? or tensorC = tensorA + tensorB\n",
    "\n",
    "print(tensorA)\n",
    "print(tensorB)\n",
    "print(tensorC)"
   ]
  },
  {
   "cell_type": "markdown",
   "metadata": {},
   "source": [
    ">Element wise substraction"
   ]
  },
  {
   "cell_type": "code",
   "execution_count": null,
   "metadata": {},
   "outputs": [],
   "source": [
    "tensorC = tf.subtract(tensorA, tensorB) #? or tensorC = tensorA - tensorB\n",
    "print(tensorC)"
   ]
  },
  {
   "cell_type": "markdown",
   "metadata": {},
   "source": [
    "> Element wise division"
   ]
  },
  {
   "cell_type": "code",
   "execution_count": null,
   "metadata": {},
   "outputs": [],
   "source": [
    "tensorD = tf.divide(tensorA, tensorB) #? or tensorC = tensorA / tensorB\n",
    "print(tensorD)"
   ]
  },
  {
   "cell_type": "markdown",
   "metadata": {},
   "source": [
    "> Tensor multiplication"
   ]
  },
  {
   "cell_type": "code",
   "execution_count": 11,
   "metadata": {},
   "outputs": [
    {
     "name": "stdout",
     "output_type": "stream",
     "text": [
      "tf.Tensor([900  42 147], shape=(3,), dtype=int32)\n"
     ]
    }
   ],
   "source": [
    "tensorE = tf.multiply(tensorA, tensorB)\n",
    "print(tensorE)"
   ]
  },
  {
   "cell_type": "markdown",
   "metadata": {},
   "source": [
    "> Dot product"
   ]
  },
  {
   "cell_type": "code",
   "execution_count": 4,
   "metadata": {},
   "outputs": [
    {
     "name": "stdout",
     "output_type": "stream",
     "text": [
      "tf.Tensor(\n",
      "[[1 2]\n",
      " [3 4]], shape=(2, 2), dtype=int32)\n",
      "tf.Tensor(\n",
      "[[11 12]\n",
      " [13 14]], shape=(2, 2), dtype=int32)\n",
      "tf.Tensor(\n",
      "[[37 40]\n",
      " [85 92]], shape=(2, 2), dtype=int32)\n"
     ]
    }
   ],
   "source": [
    "import numpy as np\n",
    "\n",
    "tensorA = tf.constant(np.array([[1, 2], [3, 4]]))\n",
    "tensorB = tf.constant(np.array([[11, 12], [13, 14]]))\n",
    "\n",
    "#? [[*11 + 2*13], [1*12 + 2*14]], [[3*11 + 4*13], [3*12 + 4*14]]\n",
    "tensorC = tf.tensordot(tensorA, tensorB, axes=1)\n",
    "\n",
    "print(tensorA)\n",
    "print(tensorB)\n",
    "print(tensorC)"
   ]
  }
 ],
 "metadata": {
  "kernelspec": {
   "display_name": "tensorflow",
   "language": "python",
   "name": "python3"
  },
  "language_info": {
   "codemirror_mode": {
    "name": "ipython",
    "version": 3
   },
   "file_extension": ".py",
   "mimetype": "text/x-python",
   "name": "python",
   "nbconvert_exporter": "python",
   "pygments_lexer": "ipython3",
   "version": "3.9.17"
  },
  "orig_nbformat": 4
 },
 "nbformat": 4,
 "nbformat_minor": 2
}
