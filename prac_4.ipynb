{
  "nbformat": 4,
  "nbformat_minor": 0,
  "metadata": {
    "colab": {
      "provenance": [],
      "gpuType": "T4",
      "authorship_tag": "ABX9TyPhAjSoQj2vZ1+jCArZhPIO",
      "include_colab_link": true
    },
    "kernelspec": {
      "name": "python3",
      "display_name": "Python 3"
    },
    "language_info": {
      "name": "python"
    },
    "accelerator": "GPU"
  },
  "cells": [
    {
      "cell_type": "markdown",
      "metadata": {
        "id": "view-in-github",
        "colab_type": "text"
      },
      "source": [
        "<a href=\"https://colab.research.google.com/github/mayurasandakalum/tensorflow-practice-1/blob/main/prac_4.ipynb\" target=\"_parent\"><img src=\"https://colab.research.google.com/assets/colab-badge.svg\" alt=\"Open In Colab\"/></a>"
      ]
    },
    {
      "cell_type": "code",
      "execution_count": null,
      "metadata": {
        "id": "AYdfWm_f8917"
      },
      "outputs": [],
      "source": [
        "import tensorflow as tf\n",
        "import os"
      ]
    },
    {
      "cell_type": "code",
      "source": [
        "x = tf.constant([0, 10, 15, 20, 30, 10, 20, 30])\n",
        "print(x)\n",
        "print(x[:])\n",
        "print(x[1:])\n",
        "print(x[0:4])\n",
        "print(x[::2])\n",
        "print(x[::-1])"
      ],
      "metadata": {
        "colab": {
          "base_uri": "https://localhost:8080/"
        },
        "id": "opY1A9dJAo9-",
        "outputId": "eacb30a5-31ac-4366-b4aa-e7ca704436b4"
      },
      "execution_count": null,
      "outputs": [
        {
          "output_type": "stream",
          "name": "stdout",
          "text": [
            "tf.Tensor([ 0 10 15 20 30 10 20 30], shape=(8,), dtype=int32)\n",
            "tf.Tensor([ 0 10 15 20 30 10 20 30], shape=(8,), dtype=int32)\n",
            "tf.Tensor([10 15 20 30 10 20 30], shape=(7,), dtype=int32)\n",
            "tf.Tensor([ 0 10 15 20], shape=(4,), dtype=int32)\n",
            "tf.Tensor([ 0 15 30 20], shape=(4,), dtype=int32)\n",
            "tf.Tensor([30 20 10 30 20 15 10  0], shape=(8,), dtype=int32)\n"
          ]
        }
      ]
    },
    {
      "cell_type": "markdown",
      "source": [
        " Indices"
      ],
      "metadata": {
        "id": "Zd-QzeGUJ_0K"
      }
    },
    {
      "cell_type": "code",
      "source": [
        "x = tf.constant([[10, 20], [30, 40], [50, 60], [70, 80]])\n",
        "indicesIndexes = tf.constant([0, 3])\n",
        "print(indicesIndexes)\n",
        "\n",
        "indexedTensor = tf.gather(x, indices=indicesIndexes)\n",
        "print(indexedTensor)"
      ],
      "metadata": {
        "colab": {
          "base_uri": "https://localhost:8080/"
        },
        "id": "nBf9kCixJ_fX",
        "outputId": "c91c5f17-7998-4539-ab1a-42f46246720c"
      },
      "execution_count": null,
      "outputs": [
        {
          "output_type": "stream",
          "name": "stdout",
          "text": [
            "tf.Tensor([0 3], shape=(2,), dtype=int32)\n",
            "tf.Tensor(\n",
            "[[10 20]\n",
            " [70 80]], shape=(2, 2), dtype=int32)\n"
          ]
        }
      ]
    },
    {
      "cell_type": "markdown",
      "source": [
        "Reshaping"
      ],
      "metadata": {
        "id": "p0PYZgH9NnhA"
      }
    },
    {
      "cell_type": "code",
      "source": [
        "tensorA = tf.range(16)\n",
        "print(tensorA)\n",
        "\n",
        "x = tf.reshape(tensorA, (4, 4))\n",
        "print(x)"
      ],
      "metadata": {
        "colab": {
          "base_uri": "https://localhost:8080/"
        },
        "id": "OGfsulSBN5gw",
        "outputId": "4a3b8e39-47d1-482f-9112-472ece3b294b"
      },
      "execution_count": null,
      "outputs": [
        {
          "output_type": "stream",
          "name": "stdout",
          "text": [
            "tf.Tensor([ 0  1  2  3  4  5  6  7  8  9 10 11 12 13 14 15], shape=(16,), dtype=int32)\n",
            "tf.Tensor(\n",
            "[[ 0  1  2  3]\n",
            " [ 4  5  6  7]\n",
            " [ 8  9 10 11]\n",
            " [12 13 14 15]], shape=(4, 4), dtype=int32)\n"
          ]
        }
      ]
    }
  ]
}